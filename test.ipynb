{
 "cells": [
  {
   "cell_type": "code",
   "execution_count": 12,
   "metadata": {},
   "outputs": [],
   "source": [
    "import tabula\n",
    "import pandas as pd\n",
    "import os\n",
    "import datetime\n",
    "import numpy as np\n",
    "import calendar\n",
    "def getList(path) -> pd.DataFrame:\n",
    "    df = tabula.read_pdf(File,lattice=True,pages=\"1\")\n",
    "    if len(df[0]) > len(df[1]):\n",
    "        return df[0]\n",
    "    else:\n",
    "        return df[1]"
   ]
  },
  {
   "cell_type": "code",
   "execution_count": 16,
   "metadata": {},
   "outputs": [],
   "source": [
    "def AnalyzeDf(df: pd.DataFrame,year,month) -> bool:\n",
    "    drop = [i for i in range(0,8)]\n",
    "    df = df.drop(drop,axis=0)\n",
    "    col = [i for i in range(0,len(df.columns))]\n",
    "    df.columns = col\n",
    "\n",
    "    df_r = pd.DataFrame()\n",
    "    df_r[\"日付\"] = df[1]\n",
    "    df_r[\"曜日\"] = df[2]\n",
    "    df_r[\"出勤形態\"] = df[3]\n",
    "    df_r[\"出勤定時\"] = df[4]\n",
    "    df_r[\"出勤時間\"] = df[5]\n",
    "    df_r[\"退勤時間\"] = df[6]\n",
    "    df_r[\"申請理由\"] = df[7]\n",
    "    df_r[\"就業時間\"] = df[9]\n",
    "    df_r[\"普通残業\"] = df[11]\n",
    "    df_r[\"深夜残業\"] = df[12]\n",
    "    df_r[\"私的居残り\"] = df[19]\n",
    "    # df_r[\"出勤\"] = df[26]\n",
    "    # df_r[\"年休\"] = df[27]\n",
    "    # df_r[\"代休\"] = df[28]\n",
    "    # df_r[\"看護休暇\"] = df[29]\n",
    "    # df_r[\"特別休暇\"] = df[29]\n",
    "    # df_r[\"欠勤\"] = df[29]\n",
    "    # df_r[\"他\"] = df[29]\n",
    "    days = calendar.monthrange(year,month)[1]\n",
    "    drop = [i for i in range(days+8,days+8+5)]\n",
    "    df_r = df_r.drop(drop,axis=0)\n",
    "    df_r[\"夜中フラグ\"] = df_r[~pd.isna(df_r[\"退勤時間\"])][\"退勤時間\"].str.contains(\"翌\")\n",
    "    df_r[\"退勤時間\"] = df_r[~pd.isna(df_r[\"退勤時間\"])][\"退勤時間\"].str.replace(\"翌\",\"\")\n",
    "    df_r[\"退勤時間\"] = pd.to_datetime(df_r[~pd.isna(df_r[\"退勤時間\"])][\"退勤時間\"])\n",
    "    df_r[\"夜中フラグ\"] = df_r[\"夜中フラグ\"].fillna(False)\n",
    "    df_r[\"出勤フラグ\"] = df_r[\"出勤形態\"] == \"◎出勤\"\n",
    "    df_r[\"勤務時間\"] = df_r[\"出勤定時\"].apply(lambda x: pd.to_datetime('17:00') if x==\"◎0800\" else None)\n",
    "    df_r[\"超過勤務\"] = df_r[\"退勤時間\"] - df_r[\"勤務時間\"]\n",
    "    df_r[\"超過勤務\"] = df_r[\"超過勤務\"].apply(lambda x:x+datetime.timedelta(days=1) if x < datetime.timedelta(days=0) else x)\n",
    "    df_r[\"普通残業\"] = df_r[\"普通残業\"].apply(lambda x:None if x == np.nan else pd.to_datetime(x)-pd.to_datetime(\"0:00\"))\n",
    "    df_r[\"深夜残業\"] = df_r[\"深夜残業\"].apply(lambda x:None if x == np.nan else pd.to_datetime(x)-pd.to_datetime(\"0:00\"))\n",
    "    df_r[\"私的居残り\"] = df_r[\"私的居残り\"].apply(lambda x:None if x == np.nan else pd.to_datetime(x)-pd.to_datetime(\"0:00\"))\n",
    "    df_r[\"普通残業\"].fillna(datetime.timedelta(days=0),inplace=True)\n",
    "    df_r[\"深夜残業\"].fillna(datetime.timedelta(days=0),inplace=True)\n",
    "    df_r[\"私的居残り\"].fillna(datetime.timedelta(days=0),inplace=True)\n",
    "    df_r[\"Flag1\"] = df_r[\"超過勤務\"] - df_r[\"普通残業\"] - df_r[\"深夜残業\"] - df_r[\"私的居残り\"]\n",
    "    df_r[\"Flag1\"] = df_r[\"Flag1\"].apply(lambda x: True if x == datetime.timedelta(0) else False)\n",
    "    return not False  in  df_r[df_r['出勤フラグ']]['Flag1'].values"
   ]
  },
  {
   "cell_type": "code",
   "execution_count": 17,
   "metadata": {},
   "outputs": [
    {
     "name": "stderr",
     "output_type": "stream",
     "text": [
      "Got stderr: 7 11, 2022 9:14:43 午後 org.apache.fontbox.ttf.CmapSubtable processSubtype14\n",
      "警告: Format 14 cmap table is not supported and will be ignored\n",
      "\n"
     ]
    },
    {
     "data": {
      "text/plain": [
       "False"
      ]
     },
     "execution_count": 17,
     "metadata": {},
     "output_type": "execute_result"
    }
   ],
   "source": [
    "File = r'.\\2022\\2022.06_出勤簿\\PLT2\\PLT22\\板東.pdf'\n",
    "os.path.isfile(File)\n",
    "df = getList(File)\n",
    "AnalyzeDf(df,2022,6)"
   ]
  }
 ],
 "metadata": {
  "kernelspec": {
   "display_name": "Python 3.9.13 ('.venv': venv)",
   "language": "python",
   "name": "python3"
  },
  "language_info": {
   "codemirror_mode": {
    "name": "ipython",
    "version": 3
   },
   "file_extension": ".py",
   "mimetype": "text/x-python",
   "name": "python",
   "nbconvert_exporter": "python",
   "pygments_lexer": "ipython3",
   "version": "3.9.13"
  },
  "orig_nbformat": 4,
  "vscode": {
   "interpreter": {
    "hash": "6933871e46aa8c858322144b753fb129278542840be5d6827837608896465a58"
   }
  }
 },
 "nbformat": 4,
 "nbformat_minor": 2
}
